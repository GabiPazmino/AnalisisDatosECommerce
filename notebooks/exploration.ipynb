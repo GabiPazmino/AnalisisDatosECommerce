{
 "cells": [
  {
   "cell_type": "code",
   "execution_count": 7,
   "metadata": {},
   "outputs": [
    {
     "name": "stdout",
     "output_type": "stream",
     "text": [
      "Basics statistics:\n",
      "             price  client_price\n",
      "count    43.000000     43.000000\n",
      "mean    368.270930    330.747907\n",
      "std     541.715335    487.757990\n",
      "min      19.500000     17.550000\n",
      "25%      57.490000     51.740000\n",
      "50%     111.910000    100.720000\n",
      "75%     366.555000    329.900000\n",
      "max    2217.850000   1996.070000\n"
     ]
    },
    {
     "data": {
      "image/png": "[encoded data removed]",
      "text/plain": [
       "<Figure size 640x480 with 1 Axes>"
      ]
     },
     "metadata": {},
     "output_type": "display_data"
    },
    {
     "name": "stdout",
     "output_type": "stream",
     "text": [
      "10 products with the highest price:\n",
      "                                                title    price  client_price\n",
      "17  Colchón Natasha Pillow Top Beautyrest Black Si...  2217.85       1996.07\n",
      "15  Colchón Natasha Soft Hibrid Beautyrest Black S...  1877.98       1690.18\n",
      "16  Colchón Natasha Luxury Firm Beautyrest Black S...  1877.98       1690.18\n",
      "38  Colchón Hope Luxury Firm Beautyrest Silver Sim...  1209.54       1088.59\n",
      "9             Colchón Harmony Soft Pillow Top Simmons   984.99        886.49\n",
      "10     Colchón Harmony Medium Firm Pillow Top Simmons   984.99        886.49\n",
      "6                  Colchón Harmony Extra Firm Simmons   776.99        699.29\n",
      "7                        Colchón Harmony Soft Simmons   776.99        699.29\n",
      "8                 Colchón Harmony Medium Firm Simmons   776.99        699.29\n",
      "1    Topper para Colchón de Poliéster / Espuma Memory   452.80        407.52\n",
      "10 products with the lowest price:\n",
      "                                                title  price  client_price\n",
      "12          Protector para Colchón Ultrasonido Blanco  19.50         17.55\n",
      "24         Protector para colchón impermeable Vlinder  26.69         24.02\n",
      "23                     Protector para colchón Noperti  30.79         27.71\n",
      "11  Protector Impermeable para Colchón Blanco de P...  33.87         30.48\n",
      "13             Protector acolchado de colchón Simmons  33.87         30.48\n",
      "3              Colchoneta Inflable para Camping Intex  36.95         33.26\n",
      "25                       Protector para colchón Basic  37.98         34.18\n",
      "41   Protector impermeable colchón Soft Ultra Comfort  39.01         35.11\n",
      "26                     Protector para colchón de cuna  47.41         42.67\n",
      "29     Protector para colchón Allergy Care Louisville  49.28         44.35\n"
     ]
    }
   ],
   "source": [
    "import pandas as pd\n",
    "import matplotlib.pyplot as plt\n",
    "\n",
    "#Cargamos los datos limpios\n",
    "data_path = pd.read_csv(\"../data/process/cleaned_productos.csv\")\n",
    "\n",
    "df = pd.DataFrame(data_path)\n",
    "\n",
    "#analisis y visualizacion de estadisticas básicas\n",
    "print(\"Basics statistics:\")\n",
    "print(df.describe())\n",
    "\n",
    "#histogramas\n",
    "plt.hist(df[\"price\"], bins=20, edgecolor=\"black\") #creamos un histtograma de la variable price con 20 barras y bordes negros\n",
    "\n",
    "plt.title(\"Histogram of Price\")\n",
    "plt.xlabel(\"Price\")\n",
    "plt.ylabel(\"Frequency\")\n",
    "plt.show()\n",
    "\n",
    "#productos mas caros\n",
    "highest_price = df.nlargest(10, \"price\")\n",
    "print(\"10 products with the highest price:\")\n",
    "print(highest_price)\n",
    "\n",
    "#productos mas baratos\n",
    "lowest_price = df.nsmallest(10, \"price\")\n",
    "print(\"10 products with the lowest price:\")\n",
    "print(lowest_price)\n",
    "\n",
    "\n",
    "\n",
    "\n",
    "\n"
   ]
  }
 ],
 "metadata": {
  "kernelspec": {
   "display_name": "Python 3",
   "language": "python",
   "name": "python3"
  },
  "language_info": {
   "codemirror_mode": {
    "name": "ipython",
    "version": 3
   },
   "file_extension": ".py",
   "mimetype": "text/x-python",
   "name": "python",
   "nbconvert_exporter": "python",
   "pygments_lexer": "ipython3",
   "version": "3.12.4"
  }
 },
 "nbformat": 4,
 "nbformat_minor": 2
}
